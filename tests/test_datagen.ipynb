{
 "cells": [
  {
   "cell_type": "code",
   "execution_count": 1,
   "metadata": {},
   "outputs": [],
   "source": [
    "from dataset import NearDetDataset3D, TransformerDataset\n",
    "import matplotlib.pyplot as plt\n",
    "import torch\n",
    "import MinkowskiEngine as ME\n",
    "import numpy as np\n",
    "from torch.utils.data import DataLoader"
   ]
  },
  {
   "cell_type": "code",
   "execution_count": 2,
   "metadata": {},
   "outputs": [],
   "source": [
    "def collation_function(data):\n",
    "    target_data = [datum['target'] for datum in data]\n",
    "    input_data = [datum['input'] for datum in data]\n",
    "\n",
    "    target_coords, target_feats = list(zip(*target_data))\n",
    "    input_coords, input_feats = list(zip(*input_data))\n",
    "\n",
    "    # Create batched coordinates for the SparseTensor input\n",
    "    batched_target_coords = ME.utils.batched_coordinates(target_coords)\n",
    "    batched_input_coords = ME.utils.batched_coordinates(input_coords)\n",
    "\n",
    "    # Concatenate all lists\n",
    "    batched_target_feats = torch.from_numpy(np.concatenate(target_feats, 0)).float()\n",
    "    batched_input_feats = torch.from_numpy(np.concatenate(input_feats, 0)).float()\n",
    "\n",
    "    return {\n",
    "        'input': (batched_input_coords, batched_input_feats),\n",
    "        'target': (batched_target_coords, batched_target_feats)\n",
    "    }\n",
    "\n",
    "def make_data_loader(\n",
    "    dataset, batch_size, shuffle, collation_function, num_workers, config=None\n",
    "):\n",
    "\n",
    "    args = {\n",
    "        \"batch_size\": batch_size,\n",
    "        \"num_workers\": num_workers,\n",
    "        \"collate_fn\": collation_function,\n",
    "        \"pin_memory\": False,\n",
    "        \"drop_last\": False,\n",
    "    }\n",
    "\n",
    "    args[\"shuffle\"] = shuffle\n",
    "    loader = torch.utils.data.DataLoader(dataset, **args)\n",
    "\n",
    "    return loader"
   ]
  },
  {
   "cell_type": "code",
   "execution_count": 3,
   "metadata": {},
   "outputs": [
    {
     "data": {
      "text/plain": [
       "<dataset.NearDetDataset3D at 0x7f6ce9a25f50>"
      ]
     },
     "execution_count": 3,
     "metadata": {},
     "output_type": "execute_result"
    }
   ],
   "source": [
    "dataset = NearDetDataset3D()\n",
    "dataloader = make_data_loader(\n",
    "        dataset=dataset,\n",
    "        batch_size=128,\n",
    "        shuffle=False,\n",
    "        collation_function=collation_function,\n",
    "        num_workers=4\n",
    "    )\n",
    "\n",
    "dataset"
   ]
  },
  {
   "cell_type": "code",
   "execution_count": 4,
   "metadata": {},
   "outputs": [],
   "source": [
    "transformer_ds = TransformerDataset()\n",
    "transformer_dataloader = DataLoader(transformer_ds, batch_size=2, shuffle=False)"
   ]
  },
  {
   "cell_type": "code",
   "execution_count": null,
   "metadata": {},
   "outputs": [],
   "source": []
  }
 ],
 "metadata": {
  "interpreter": {
   "hash": "61a880d97efc9fd30b3a31323d49118c11435bbf70569d18a380dc57bece8737"
  },
  "kernelspec": {
   "display_name": "Python 3.7.10 ('minkowski')",
   "language": "python",
   "name": "python3"
  },
  "language_info": {
   "codemirror_mode": {
    "name": "ipython",
    "version": 3
   },
   "file_extension": ".py",
   "mimetype": "text/x-python",
   "name": "python",
   "nbconvert_exporter": "python",
   "pygments_lexer": "ipython3",
   "version": "3.7.10"
  },
  "orig_nbformat": 4
 },
 "nbformat": 4,
 "nbformat_minor": 2
}
